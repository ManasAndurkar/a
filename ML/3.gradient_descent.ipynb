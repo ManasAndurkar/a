{
 "cells": [
  {
   "cell_type": "code",
   "execution_count": null,
   "metadata": {},
   "outputs": [],
   "source": [
    "#  Implement Gradient Descent Algorithm to find the local minima of a function. \n",
    "# For example, find the local minima of the function y=(x+3)2 starting from the point x=2.\n"
   ]
  },
  {
   "cell_type": "code",
   "execution_count": 1,
   "metadata": {},
   "outputs": [],
   "source": [
    "import numpy as np\n",
    "import matplotlib.pyplot as plt"
   ]
  },
  {
   "cell_type": "code",
   "execution_count": 2,
   "metadata": {},
   "outputs": [],
   "source": [
    "\n",
    "  \n",
    "def mean_squared_error(y_true, y_predicted):\n",
    "    cost = np.sum((y_true-y_predicted)**2) / len(y_true)\n",
    "    return cost\n",
    "  \n",
    "def gradient_descent_self(x, y, iterations = 1000, learning_rate = 0.0001):\n",
    "    current_slope = 0\n",
    "    current_intercept = 0\n",
    "    intercept = []\n",
    "    slope =[]\n",
    "    for i in range(iterations):\n",
    "        y_predicted = (current_slope * x) + current_intercept\n",
    "        current_cost_for_slope = (1/len(y)) * np.sum((y_predicted - y) * x)\n",
    "        current_cost_for_intercept = (1/len(y)) * np.sum((y_predicted - y))\n",
    "        current_slope = current_slope - (learning_rate * current_cost_for_slope)\n",
    "        current_intercept = current_intercept - (learning_rate * current_cost_for_intercept)\n",
    "        slope.append(current_cost_for_slope)\n",
    "        intercept.append(current_cost_for_intercept)\n",
    "        \n",
    "    print(f\"Slope: {current_slope}\\nIntercept: {current_intercept}\")\n",
    "    return current_slope, current_intercept\n"
   ]
  },
  {
   "cell_type": "code",
   "execution_count": 3,
   "metadata": {},
   "outputs": [
    {
     "name": "stdout",
     "output_type": "stream",
     "text": [
      "Slope: 1.3906119782091686\n",
      "Intercept: -0.009215442270267788\n"
     ]
    },
    {
     "data": {
      "image/png": "[encoded data removed]",
      "text/plain": [
       "<Figure size 576x432 with 1 Axes>"
      ]
     },
     "metadata": {
      "needs_background": "light"
     },
     "output_type": "display_data"
    },
    {
     "name": "stdout",
     "output_type": "stream",
     "text": [
      "Estimated Weight: [1.42122097]\n",
      "Estimated Bias: -1.5745162788040545\n",
      "model score  0.546233593112555\n"
     ]
    }
   ],
   "source": [
    "\n",
    "\n",
    "from sklearn.linear_model import LinearRegression\n",
    "\n",
    "model = LinearRegression()\n",
    "  \n",
    "\n",
    "\n",
    "X = np.array([32.50234527, 53.42680403, 61.53035803, 47.47563963, 59.81320787,\n",
    "       55.14218841, 52.21179669, 39.29956669, 48.10504169, 52.55001444,\n",
    "       45.41973014, 54.35163488, 44.1640495 , 58.16847072, 56.72720806,\n",
    "       48.95588857, 44.68719623, 60.29732685, 45.61864377, 38.81681754])\n",
    "Y = np.array([31.70700585, 68.77759598, 62.5623823 , 71.54663223, 87.23092513,\n",
    "       78.21151827, 79.64197305, 59.17148932, 75.3312423 , 71.30087989,\n",
    "       55.16567715, 82.47884676, 62.00892325, 75.39287043, 81.43619216,\n",
    "       60.72360244, 82.89250373, 97.37989686, 48.84715332, 56.87721319])\n",
    "\n",
    "# Estimating weight and bias using gradient descent\n",
    "\n",
    "estimated_weight1, eatimated_bias1 = gradient_descent_self(X, Y, iterations=10000)\n",
    "\n",
    "# Making predictions using estimated parameters\n",
    "\n",
    "Y_pred1 = estimated_weight1*X + eatimated_bias1\n",
    "\n",
    "# Plotting the regression line\n",
    "plt.figure(figsize = (8,6))\n",
    "# plt.title(\"Using Self\")\n",
    "plt.scatter(X, Y, marker='o', color='red')\n",
    "plt.plot([min(X), max(X)], [min(Y_pred1), max(Y_pred1)], color='blue',markerfacecolor='red',\n",
    "         markersize=10,linestyle='dashed')\n",
    "plt.xlabel(\"X\")\n",
    "plt.ylabel(\"Y\")\n",
    "plt.show()\n",
    "\n",
    "model.fit(X.reshape(-1 , 1) , Y)\n",
    "\n",
    "print(f\"Estimated Weight: {model.coef_}\\nEstimated Bias: {model.intercept_}\")\n",
    "print(\"model score \",model.score(X.reshape(-1 , 1) , Y))\n",
    "  \n",
    "  \n"
   ]
  }
 ],
 "metadata": {
  "kernelspec": {
   "display_name": "Python 3.8.7 64-bit",
   "language": "python",
   "name": "python3"
  },
  "language_info": {
   "codemirror_mode": {
    "name": "ipython",
    "version": 3
   },
   "file_extension": ".py",
   "mimetype": "text/x-python",
   "name": "python",
   "nbconvert_exporter": "python",
   "pygments_lexer": "ipython3",
   "version": "3.8.7"
  },
  "orig_nbformat": 4,
  "vscode": {
   "interpreter": {
    "hash": "b82bd812b6a37d04ba59de08f4dfa67a262de1c3e27303c0cb0a5b38b381c61f"
   }
  }
 },
 "nbformat": 4,
 "nbformat_minor": 2
}
