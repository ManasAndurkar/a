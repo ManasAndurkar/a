{
 "cells": [
  {
   "cell_type": "code",
   "execution_count": null,
   "metadata": {},
   "outputs": [],
   "source": [
    "#  Implement Gradient Descent Algorithm to find the local minima of a function. \n",
    "# For example, find the local minima of the function y=(x+3)2 starting from the point x=2.\n"
   ]
  },
  {
   "cell_type": "code",
   "execution_count": 2,
   "metadata": {},
   "outputs": [
    {
     "name": "stdout",
     "output_type": "stream",
     "text": [
      "The local minimum occurs at: -2.999951128099859\n"
     ]
    },
    {
     "data": {
      "image/png": "[encoded data removed]",
      "text/plain": [
       "<Figure size 432x288 with 1 Axes>"
      ]
     },
     "metadata": {
      "needs_background": "light"
     },
     "output_type": "display_data"
    }
   ],
   "source": [
    "# y=(x+3)2 starting from the point x=2.\n",
    "\n",
    "current_x =2\n",
    "\n",
    "rate = 0.01\n",
    "\n",
    "precision = 0.000001\n",
    "\n",
    "previous_step_size = 1\n",
    "\n",
    "max_iters = 1000\n",
    "\n",
    "iters = 0\n",
    "\n",
    "df = lambda x: 2*(x+3)\n",
    "\n",
    "values  = []\n",
    "\n",
    "while previous_step_size > precision and iters< max_iters:\n",
    "    previous_x = current_x\n",
    "    current_x = current_x - rate * df(previous_x)\n",
    "    previous_step_size = abs(current_x - previous_x)\n",
    "    iters = iters +1\n",
    "    values.append(current_x)\n",
    "    # print(\"Iterations\",iters,\"\\nX value is\",current_x , \" and previous_step_size = \",previous_step_size)\n",
    "\n",
    "print(\"The local minimum occurs at:\",current_x)\n",
    "\n",
    "#  plot the values of x as it approaches the local minimum\n",
    "\n",
    "import matplotlib.pyplot as plt\n",
    "\n",
    "plt.plot(values)\n",
    "plt.show()\n"
   ]
  }
 ],
 "metadata": {
  "kernelspec": {
   "display_name": "Python 3.8.7 64-bit",
   "language": "python",
   "name": "python3"
  },
  "language_info": {
   "codemirror_mode": {
    "name": "ipython",
    "version": 3
   },
   "file_extension": ".py",
   "mimetype": "text/x-python",
   "name": "python",
   "nbconvert_exporter": "python",
   "pygments_lexer": "ipython3",
   "version": "3.8.7"
  },
  "orig_nbformat": 4,
  "vscode": {
   "interpreter": {
    "hash": "b82bd812b6a37d04ba59de08f4dfa67a262de1c3e27303c0cb0a5b38b381c61f"
   }
  }
 },
 "nbformat": 4,
 "nbformat_minor": 2
}
