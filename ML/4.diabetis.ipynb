{
 "cells": [
  {
   "cell_type": "markdown",
   "id": "9e09f7b4",
   "metadata": {},
   "source": [
    "# Implement K-Nearest Neighbors algorithm on diabetes.csv dataset. Compute confusion matrix, accuracy, error rate, precision and recall on the given dataset.\n",
    "\n",
    "### Rahul Agrawal BC202"
   ]
  },
  {
   "cell_type": "code",
   "execution_count": 298,
   "id": "0b4d634f",
   "metadata": {},
   "outputs": [],
   "source": [
    "import pandas as pd\n",
    "import numpy as np\n",
    "import seaborn as sns\n",
    "from matplotlib import pyplot as plt"
   ]
  },
  {
   "cell_type": "code",
   "execution_count": 300,
   "id": "a300597a",
   "metadata": {},
   "outputs": [
    {
     "data": {
      "text/html": [
       "<div>\n",
       "<style scoped>\n",
       "    .dataframe tbody tr th:only-of-type {\n",
       "        vertical-align: middle;\n",
       "    }\n",
       "\n",
       "    .dataframe tbody tr th {\n",
       "        vertical-align: top;\n",
       "    }\n",
       "\n",
       "    .dataframe thead th {\n",
       "        text-align: right;\n",
       "    }\n",
       "</style>\n",
       "<table border=\"1\" class=\"dataframe\">\n",
       "  <thead>\n",
       "    <tr style=\"text-align: right;\">\n",
       "      <th></th>\n",
       "      <th>Pregnancies</th>\n",
       "      <th>Glucose</th>\n",
       "      <th>BloodPressure</th>\n",
       "      <th>SkinThickness</th>\n",
       "      <th>Insulin</th>\n",
       "      <th>BMI</th>\n",
       "      <th>Pedigree</th>\n",
       "      <th>Age</th>\n",
       "      <th>Outcome</th>\n",
       "    </tr>\n",
       "  </thead>\n",
       "  <tbody>\n",
       "    <tr>\n",
       "      <th>414</th>\n",
       "      <td>0</td>\n",
       "      <td>138</td>\n",
       "      <td>60</td>\n",
       "      <td>35</td>\n",
       "      <td>167</td>\n",
       "      <td>34.6</td>\n",
       "      <td>0.534</td>\n",
       "      <td>21</td>\n",
       "      <td>1</td>\n",
       "    </tr>\n",
       "    <tr>\n",
       "      <th>205</th>\n",
       "      <td>5</td>\n",
       "      <td>111</td>\n",
       "      <td>72</td>\n",
       "      <td>28</td>\n",
       "      <td>0</td>\n",
       "      <td>23.9</td>\n",
       "      <td>0.407</td>\n",
       "      <td>27</td>\n",
       "      <td>0</td>\n",
       "    </tr>\n",
       "    <tr>\n",
       "      <th>402</th>\n",
       "      <td>5</td>\n",
       "      <td>136</td>\n",
       "      <td>84</td>\n",
       "      <td>41</td>\n",
       "      <td>88</td>\n",
       "      <td>35.0</td>\n",
       "      <td>0.286</td>\n",
       "      <td>35</td>\n",
       "      <td>1</td>\n",
       "    </tr>\n",
       "    <tr>\n",
       "      <th>559</th>\n",
       "      <td>11</td>\n",
       "      <td>85</td>\n",
       "      <td>74</td>\n",
       "      <td>0</td>\n",
       "      <td>0</td>\n",
       "      <td>30.1</td>\n",
       "      <td>0.300</td>\n",
       "      <td>35</td>\n",
       "      <td>0</td>\n",
       "    </tr>\n",
       "    <tr>\n",
       "      <th>410</th>\n",
       "      <td>6</td>\n",
       "      <td>102</td>\n",
       "      <td>90</td>\n",
       "      <td>39</td>\n",
       "      <td>0</td>\n",
       "      <td>35.7</td>\n",
       "      <td>0.674</td>\n",
       "      <td>28</td>\n",
       "      <td>0</td>\n",
       "    </tr>\n",
       "    <tr>\n",
       "      <th>209</th>\n",
       "      <td>7</td>\n",
       "      <td>184</td>\n",
       "      <td>84</td>\n",
       "      <td>33</td>\n",
       "      <td>0</td>\n",
       "      <td>35.5</td>\n",
       "      <td>0.355</td>\n",
       "      <td>41</td>\n",
       "      <td>1</td>\n",
       "    </tr>\n",
       "    <tr>\n",
       "      <th>305</th>\n",
       "      <td>2</td>\n",
       "      <td>120</td>\n",
       "      <td>76</td>\n",
       "      <td>37</td>\n",
       "      <td>105</td>\n",
       "      <td>39.7</td>\n",
       "      <td>0.215</td>\n",
       "      <td>29</td>\n",
       "      <td>0</td>\n",
       "    </tr>\n",
       "    <tr>\n",
       "      <th>704</th>\n",
       "      <td>4</td>\n",
       "      <td>110</td>\n",
       "      <td>76</td>\n",
       "      <td>20</td>\n",
       "      <td>100</td>\n",
       "      <td>28.4</td>\n",
       "      <td>0.118</td>\n",
       "      <td>27</td>\n",
       "      <td>0</td>\n",
       "    </tr>\n",
       "    <tr>\n",
       "      <th>343</th>\n",
       "      <td>5</td>\n",
       "      <td>122</td>\n",
       "      <td>86</td>\n",
       "      <td>0</td>\n",
       "      <td>0</td>\n",
       "      <td>34.7</td>\n",
       "      <td>0.290</td>\n",
       "      <td>33</td>\n",
       "      <td>0</td>\n",
       "    </tr>\n",
       "    <tr>\n",
       "      <th>341</th>\n",
       "      <td>1</td>\n",
       "      <td>95</td>\n",
       "      <td>74</td>\n",
       "      <td>21</td>\n",
       "      <td>73</td>\n",
       "      <td>25.9</td>\n",
       "      <td>0.673</td>\n",
       "      <td>36</td>\n",
       "      <td>0</td>\n",
       "    </tr>\n",
       "  </tbody>\n",
       "</table>\n",
       "</div>"
      ],
      "text/plain": [
       "     Pregnancies  Glucose  BloodPressure  SkinThickness  Insulin   BMI  \\\n",
       "414            0      138             60             35      167  34.6   \n",
       "205            5      111             72             28        0  23.9   \n",
       "402            5      136             84             41       88  35.0   \n",
       "559           11       85             74              0        0  30.1   \n",
       "410            6      102             90             39        0  35.7   \n",
       "209            7      184             84             33        0  35.5   \n",
       "305            2      120             76             37      105  39.7   \n",
       "704            4      110             76             20      100  28.4   \n",
       "343            5      122             86              0        0  34.7   \n",
       "341            1       95             74             21       73  25.9   \n",
       "\n",
       "     Pedigree  Age  Outcome  \n",
       "414     0.534   21        1  \n",
       "205     0.407   27        0  \n",
       "402     0.286   35        1  \n",
       "559     0.300   35        0  \n",
       "410     0.674   28        0  \n",
       "209     0.355   41        1  \n",
       "305     0.215   29        0  \n",
       "704     0.118   27        0  \n",
       "343     0.290   33        0  \n",
       "341     0.673   36        0  "
      ]
     },
     "execution_count": 300,
     "metadata": {},
     "output_type": "execute_result"
    }
   ],
   "source": [
    "df = pd.read_csv('diabetes.csv')\n",
    "\n",
    "df.sample(10)"
   ]
  },
  {
   "cell_type": "code",
   "execution_count": 301,
   "id": "f92fcb51",
   "metadata": {},
   "outputs": [
    {
     "data": {
      "text/html": [
       "<div>\n",
       "<style scoped>\n",
       "    .dataframe tbody tr th:only-of-type {\n",
       "        vertical-align: middle;\n",
       "    }\n",
       "\n",
       "    .dataframe tbody tr th {\n",
       "        vertical-align: top;\n",
       "    }\n",
       "\n",
       "    .dataframe thead th {\n",
       "        text-align: right;\n",
       "    }\n",
       "</style>\n",
       "<table border=\"1\" class=\"dataframe\">\n",
       "  <thead>\n",
       "    <tr style=\"text-align: right;\">\n",
       "      <th></th>\n",
       "      <th>Pregnancies</th>\n",
       "      <th>Glucose</th>\n",
       "      <th>BloodPressure</th>\n",
       "      <th>SkinThickness</th>\n",
       "      <th>Insulin</th>\n",
       "      <th>BMI</th>\n",
       "      <th>Pedigree</th>\n",
       "      <th>Age</th>\n",
       "      <th>Outcome</th>\n",
       "    </tr>\n",
       "  </thead>\n",
       "  <tbody>\n",
       "    <tr>\n",
       "      <th>count</th>\n",
       "      <td>768.000000</td>\n",
       "      <td>768.000000</td>\n",
       "      <td>768.000000</td>\n",
       "      <td>768.000000</td>\n",
       "      <td>768.000000</td>\n",
       "      <td>768.000000</td>\n",
       "      <td>768.000000</td>\n",
       "      <td>768.000000</td>\n",
       "      <td>768.000000</td>\n",
       "    </tr>\n",
       "    <tr>\n",
       "      <th>mean</th>\n",
       "      <td>3.845052</td>\n",
       "      <td>120.894531</td>\n",
       "      <td>69.105469</td>\n",
       "      <td>20.536458</td>\n",
       "      <td>79.799479</td>\n",
       "      <td>31.992578</td>\n",
       "      <td>0.471876</td>\n",
       "      <td>33.240885</td>\n",
       "      <td>0.348958</td>\n",
       "    </tr>\n",
       "    <tr>\n",
       "      <th>std</th>\n",
       "      <td>3.369578</td>\n",
       "      <td>31.972618</td>\n",
       "      <td>19.355807</td>\n",
       "      <td>15.952218</td>\n",
       "      <td>115.244002</td>\n",
       "      <td>7.884160</td>\n",
       "      <td>0.331329</td>\n",
       "      <td>11.760232</td>\n",
       "      <td>0.476951</td>\n",
       "    </tr>\n",
       "    <tr>\n",
       "      <th>min</th>\n",
       "      <td>0.000000</td>\n",
       "      <td>0.000000</td>\n",
       "      <td>0.000000</td>\n",
       "      <td>0.000000</td>\n",
       "      <td>0.000000</td>\n",
       "      <td>0.000000</td>\n",
       "      <td>0.078000</td>\n",
       "      <td>21.000000</td>\n",
       "      <td>0.000000</td>\n",
       "    </tr>\n",
       "    <tr>\n",
       "      <th>25%</th>\n",
       "      <td>1.000000</td>\n",
       "      <td>99.000000</td>\n",
       "      <td>62.000000</td>\n",
       "      <td>0.000000</td>\n",
       "      <td>0.000000</td>\n",
       "      <td>27.300000</td>\n",
       "      <td>0.243750</td>\n",
       "      <td>24.000000</td>\n",
       "      <td>0.000000</td>\n",
       "    </tr>\n",
       "    <tr>\n",
       "      <th>50%</th>\n",
       "      <td>3.000000</td>\n",
       "      <td>117.000000</td>\n",
       "      <td>72.000000</td>\n",
       "      <td>23.000000</td>\n",
       "      <td>30.500000</td>\n",
       "      <td>32.000000</td>\n",
       "      <td>0.372500</td>\n",
       "      <td>29.000000</td>\n",
       "      <td>0.000000</td>\n",
       "    </tr>\n",
       "    <tr>\n",
       "      <th>75%</th>\n",
       "      <td>6.000000</td>\n",
       "      <td>140.250000</td>\n",
       "      <td>80.000000</td>\n",
       "      <td>32.000000</td>\n",
       "      <td>127.250000</td>\n",
       "      <td>36.600000</td>\n",
       "      <td>0.626250</td>\n",
       "      <td>41.000000</td>\n",
       "      <td>1.000000</td>\n",
       "    </tr>\n",
       "    <tr>\n",
       "      <th>max</th>\n",
       "      <td>17.000000</td>\n",
       "      <td>199.000000</td>\n",
       "      <td>122.000000</td>\n",
       "      <td>99.000000</td>\n",
       "      <td>846.000000</td>\n",
       "      <td>67.100000</td>\n",
       "      <td>2.420000</td>\n",
       "      <td>81.000000</td>\n",
       "      <td>1.000000</td>\n",
       "    </tr>\n",
       "  </tbody>\n",
       "</table>\n",
       "</div>"
      ],
      "text/plain": [
       "       Pregnancies     Glucose  BloodPressure  SkinThickness     Insulin  \\\n",
       "count   768.000000  768.000000     768.000000     768.000000  768.000000   \n",
       "mean      3.845052  120.894531      69.105469      20.536458   79.799479   \n",
       "std       3.369578   31.972618      19.355807      15.952218  115.244002   \n",
       "min       0.000000    0.000000       0.000000       0.000000    0.000000   \n",
       "25%       1.000000   99.000000      62.000000       0.000000    0.000000   \n",
       "50%       3.000000  117.000000      72.000000      23.000000   30.500000   \n",
       "75%       6.000000  140.250000      80.000000      32.000000  127.250000   \n",
       "max      17.000000  199.000000     122.000000      99.000000  846.000000   \n",
       "\n",
       "              BMI    Pedigree         Age     Outcome  \n",
       "count  768.000000  768.000000  768.000000  768.000000  \n",
       "mean    31.992578    0.471876   33.240885    0.348958  \n",
       "std      7.884160    0.331329   11.760232    0.476951  \n",
       "min      0.000000    0.078000   21.000000    0.000000  \n",
       "25%     27.300000    0.243750   24.000000    0.000000  \n",
       "50%     32.000000    0.372500   29.000000    0.000000  \n",
       "75%     36.600000    0.626250   41.000000    1.000000  \n",
       "max     67.100000    2.420000   81.000000    1.000000  "
      ]
     },
     "execution_count": 301,
     "metadata": {},
     "output_type": "execute_result"
    }
   ],
   "source": [
    "df.describe()"
   ]
  },
  {
   "cell_type": "code",
   "execution_count": 302,
   "id": "d5e43cc7",
   "metadata": {},
   "outputs": [
    {
     "data": {
      "text/plain": [
       "array([1, 0])"
      ]
     },
     "execution_count": 302,
     "metadata": {},
     "output_type": "execute_result"
    }
   ],
   "source": [
    "df.Outcome.unique()"
   ]
  },
  {
   "cell_type": "code",
   "execution_count": 303,
   "id": "793e08b9",
   "metadata": {},
   "outputs": [
    {
     "name": "stdout",
     "output_type": "stream",
     "text": [
      "Pregnancies      0\n",
      "Glucose          0\n",
      "BloodPressure    0\n",
      "SkinThickness    0\n",
      "Insulin          0\n",
      "BMI              0\n",
      "Pedigree         0\n",
      "Age              0\n",
      "Outcome          0\n",
      "dtype: int64\n"
     ]
    }
   ],
   "source": [
    "print(df.isnull().sum())"
   ]
  },
  {
   "cell_type": "code",
   "execution_count": 304,
   "id": "4cf32763",
   "metadata": {},
   "outputs": [
    {
     "name": "stdout",
     "output_type": "stream",
     "text": [
      "DataFrame Total Rows are :  768\n"
     ]
    }
   ],
   "source": [
    "print(\"DataFrame Total Rows are : \", len(df))"
   ]
  },
  {
   "cell_type": "markdown",
   "id": "d14d31f1",
   "metadata": {},
   "source": [
    "#### Outliers"
   ]
  },
  {
   "cell_type": "code",
   "execution_count": 305,
   "id": "3546c06e",
   "metadata": {},
   "outputs": [
    {
     "name": "stderr",
     "output_type": "stream",
     "text": [
      "/home/mmcoe/anaconda3/lib/python3.9/site-packages/seaborn/_decorators.py:36: FutureWarning: Pass the following variable as a keyword arg: x. From version 0.12, the only valid positional argument will be `data`, and passing other arguments without an explicit keyword will result in an error or misinterpretation.\n",
      "  warnings.warn(\n"
     ]
    },
    {
     "data": {
      "text/plain": [
       "<AxesSubplot:xlabel='Pregnancies'>"
      ]
     },
     "execution_count": 305,
     "metadata": {},
     "output_type": "execute_result"
    },
    {
     "data": {
      "image/png": "[encoded data removed]",
      "text/plain": [
       "<Figure size 432x288 with 1 Axes>"
      ]
     },
     "metadata": {
      "needs_background": "light"
     },
     "output_type": "display_data"
    }
   ],
   "source": [
    "sns.boxenplot(df[\"Pregnancies\"])"
   ]
  },
  {
   "cell_type": "code",
   "execution_count": 306,
   "id": "860a8118",
   "metadata": {},
   "outputs": [],
   "source": [
    "df =df.drop([index for index,i in enumerate(df[\"Pregnancies\"]) if i > 12])"
   ]
  },
  {
   "cell_type": "code",
   "execution_count": 307,
   "id": "a650e967",
   "metadata": {},
   "outputs": [
    {
     "name": "stderr",
     "output_type": "stream",
     "text": [
      "/home/mmcoe/anaconda3/lib/python3.9/site-packages/seaborn/_decorators.py:36: FutureWarning: Pass the following variable as a keyword arg: x. From version 0.12, the only valid positional argument will be `data`, and passing other arguments without an explicit keyword will result in an error or misinterpretation.\n",
      "  warnings.warn(\n"
     ]
    },
    {
     "data": {
      "text/plain": [
       "<AxesSubplot:xlabel='Pregnancies'>"
      ]
     },
     "execution_count": 307,
     "metadata": {},
     "output_type": "execute_result"
    },
    {
     "data": {
      "image/png": "[encoded data removed]",
      "text/plain": [
       "<Figure size 432x288 with 1 Axes>"
      ]
     },
     "metadata": {
      "needs_background": "light"
     },
     "output_type": "display_data"
    }
   ],
   "source": [
    "sns.boxenplot(df[\"Pregnancies\"])"
   ]
  },
  {
   "cell_type": "code",
   "execution_count": 308,
   "id": "bb3432d1",
   "metadata": {},
   "outputs": [
    {
     "name": "stdout",
     "output_type": "stream",
     "text": [
      "DataFrame Total Rows are :  754\n"
     ]
    }
   ],
   "source": [
    "print(\"DataFrame Total Rows are : \", len(df))"
   ]
  },
  {
   "cell_type": "code",
   "execution_count": 309,
   "id": "5b1ab02b",
   "metadata": {},
   "outputs": [
    {
     "name": "stderr",
     "output_type": "stream",
     "text": [
      "/home/mmcoe/anaconda3/lib/python3.9/site-packages/seaborn/_decorators.py:36: FutureWarning: Pass the following variable as a keyword arg: x. From version 0.12, the only valid positional argument will be `data`, and passing other arguments without an explicit keyword will result in an error or misinterpretation.\n",
      "  warnings.warn(\n"
     ]
    },
    {
     "data": {
      "text/plain": [
       "<AxesSubplot:xlabel='Insulin'>"
      ]
     },
     "execution_count": 309,
     "metadata": {},
     "output_type": "execute_result"
    },
    {
     "data": {
      "image/png": "[encoded data removed]",
      "text/plain": [
       "<Figure size 432x288 with 1 Axes>"
      ]
     },
     "metadata": {
      "needs_background": "light"
     },
     "output_type": "display_data"
    }
   ],
   "source": [
    "sns.boxenplot(df[\"Insulin\"])"
   ]
  },
  {
   "cell_type": "code",
   "execution_count": 310,
   "id": "7ae70219",
   "metadata": {},
   "outputs": [],
   "source": [
    "df = df.drop([index for index,i in enumerate(df[\"Insulin\"]) if i > 500])"
   ]
  },
  {
   "cell_type": "code",
   "execution_count": 311,
   "id": "1c3393e8",
   "metadata": {},
   "outputs": [
    {
     "name": "stderr",
     "output_type": "stream",
     "text": [
      "/home/mmcoe/anaconda3/lib/python3.9/site-packages/seaborn/_decorators.py:36: FutureWarning: Pass the following variable as a keyword arg: x. From version 0.12, the only valid positional argument will be `data`, and passing other arguments without an explicit keyword will result in an error or misinterpretation.\n",
      "  warnings.warn(\n"
     ]
    },
    {
     "data": {
      "text/plain": [
       "<AxesSubplot:xlabel='Insulin'>"
      ]
     },
     "execution_count": 311,
     "metadata": {},
     "output_type": "execute_result"
    },
    {
     "data": {
      "image/png": "[encoded data removed]",
      "text/plain": [
       "<Figure size 432x288 with 1 Axes>"
      ]
     },
     "metadata": {
      "needs_background": "light"
     },
     "output_type": "display_data"
    }
   ],
   "source": [
    "sns.boxenplot(df[\"Insulin\"])"
   ]
  },
  {
   "cell_type": "code",
   "execution_count": 312,
   "id": "59d18bc6",
   "metadata": {},
   "outputs": [
    {
     "name": "stdout",
     "output_type": "stream",
     "text": [
      "DataFrame Total Rows are :  745\n"
     ]
    }
   ],
   "source": [
    "print(\"DataFrame Total Rows are : \", len(df))"
   ]
  },
  {
   "cell_type": "code",
   "execution_count": 313,
   "id": "1143c6e7",
   "metadata": {},
   "outputs": [],
   "source": [
    "df = df.reset_index()  # make sure indexes pair with number of rows"
   ]
  },
  {
   "cell_type": "code",
   "execution_count": 314,
   "id": "7655c01b",
   "metadata": {},
   "outputs": [],
   "source": [
    "#  checking outcome balance\n",
    "\n",
    "one = 0 \n",
    "zero = 0\n",
    "\n",
    "\n",
    "for i in df.Outcome:\n",
    "    if i == 1 :\n",
    "        one = one +1 \n",
    "    else:\n",
    "        zero = zero +1"
   ]
  },
  {
   "cell_type": "code",
   "execution_count": 315,
   "id": "2996cac7",
   "metadata": {},
   "outputs": [
    {
     "data": {
      "text/plain": [
       "(492, 253)"
      ]
     },
     "execution_count": 315,
     "metadata": {},
     "output_type": "execute_result"
    }
   ],
   "source": [
    "zero , one"
   ]
  },
  {
   "cell_type": "code",
   "execution_count": 316,
   "id": "d01b725b",
   "metadata": {},
   "outputs": [],
   "source": [
    "zero_index = [index for index,i in enumerate(df.Outcome) if i == 0]"
   ]
  },
  {
   "cell_type": "code",
   "execution_count": 317,
   "id": "f5a4aa0b",
   "metadata": {},
   "outputs": [
    {
     "name": "stdout",
     "output_type": "stream",
     "text": [
      "removing :  239  rows\n"
     ]
    }
   ],
   "source": [
    "#  selecting random to balance out data \n",
    "\n",
    "import random\n",
    "\n",
    "\n",
    "choosen_index = random.sample(zero_index , zero - one )\n",
    "\n",
    "print(\"removing : \", len(choosen_index) , \" rows\")"
   ]
  },
  {
   "cell_type": "code",
   "execution_count": 318,
   "id": "2dc41ae9",
   "metadata": {},
   "outputs": [],
   "source": [
    "df = df.drop(choosen_index)"
   ]
  },
  {
   "cell_type": "code",
   "execution_count": 319,
   "id": "c503e159",
   "metadata": {},
   "outputs": [
    {
     "data": {
      "text/plain": [
       "(253, 253)"
      ]
     },
     "execution_count": 319,
     "metadata": {},
     "output_type": "execute_result"
    }
   ],
   "source": [
    "#  checking outcome balance\n",
    "\n",
    "one = 0 \n",
    "zero = 0\n",
    "\n",
    "\n",
    "for i in df.Outcome:\n",
    "    if i == 1 :\n",
    "        one = one +1 \n",
    "    else:\n",
    "        zero = zero +1\n",
    "        \n",
    "zero , one"
   ]
  },
  {
   "cell_type": "code",
   "execution_count": 320,
   "id": "868353bc",
   "metadata": {
    "scrolled": true
   },
   "outputs": [
    {
     "data": {
      "text/html": [
       "<div>\n",
       "<style scoped>\n",
       "    .dataframe tbody tr th:only-of-type {\n",
       "        vertical-align: middle;\n",
       "    }\n",
       "\n",
       "    .dataframe tbody tr th {\n",
       "        vertical-align: top;\n",
       "    }\n",
       "\n",
       "    .dataframe thead th {\n",
       "        text-align: right;\n",
       "    }\n",
       "</style>\n",
       "<table border=\"1\" class=\"dataframe\">\n",
       "  <thead>\n",
       "    <tr style=\"text-align: right;\">\n",
       "      <th></th>\n",
       "      <th>index</th>\n",
       "      <th>Pregnancies</th>\n",
       "      <th>Glucose</th>\n",
       "      <th>BloodPressure</th>\n",
       "      <th>SkinThickness</th>\n",
       "      <th>Insulin</th>\n",
       "      <th>BMI</th>\n",
       "      <th>Pedigree</th>\n",
       "      <th>Age</th>\n",
       "      <th>Outcome</th>\n",
       "    </tr>\n",
       "  </thead>\n",
       "  <tbody>\n",
       "    <tr>\n",
       "      <th>count</th>\n",
       "      <td>506.00000</td>\n",
       "      <td>506.000000</td>\n",
       "      <td>506.000000</td>\n",
       "      <td>506.000000</td>\n",
       "      <td>506.000000</td>\n",
       "      <td>506.000000</td>\n",
       "      <td>506.000000</td>\n",
       "      <td>506.000000</td>\n",
       "      <td>506.000000</td>\n",
       "      <td>506.000000</td>\n",
       "    </tr>\n",
       "    <tr>\n",
       "      <th>mean</th>\n",
       "      <td>386.26087</td>\n",
       "      <td>4.059289</td>\n",
       "      <td>125.853755</td>\n",
       "      <td>69.810277</td>\n",
       "      <td>20.606719</td>\n",
       "      <td>81.047431</td>\n",
       "      <td>32.553360</td>\n",
       "      <td>0.489834</td>\n",
       "      <td>34.126482</td>\n",
       "      <td>0.500000</td>\n",
       "    </tr>\n",
       "    <tr>\n",
       "      <th>std</th>\n",
       "      <td>222.20816</td>\n",
       "      <td>3.271909</td>\n",
       "      <td>33.587986</td>\n",
       "      <td>19.724628</td>\n",
       "      <td>16.616629</td>\n",
       "      <td>114.982641</td>\n",
       "      <td>8.026957</td>\n",
       "      <td>0.347297</td>\n",
       "      <td>11.668686</td>\n",
       "      <td>0.500495</td>\n",
       "    </tr>\n",
       "    <tr>\n",
       "      <th>min</th>\n",
       "      <td>0.00000</td>\n",
       "      <td>0.000000</td>\n",
       "      <td>0.000000</td>\n",
       "      <td>0.000000</td>\n",
       "      <td>0.000000</td>\n",
       "      <td>0.000000</td>\n",
       "      <td>0.000000</td>\n",
       "      <td>0.088000</td>\n",
       "      <td>21.000000</td>\n",
       "      <td>0.000000</td>\n",
       "    </tr>\n",
       "    <tr>\n",
       "      <th>25%</th>\n",
       "      <td>197.25000</td>\n",
       "      <td>1.000000</td>\n",
       "      <td>102.000000</td>\n",
       "      <td>64.000000</td>\n",
       "      <td>0.000000</td>\n",
       "      <td>0.000000</td>\n",
       "      <td>27.800000</td>\n",
       "      <td>0.246250</td>\n",
       "      <td>25.000000</td>\n",
       "      <td>0.000000</td>\n",
       "    </tr>\n",
       "    <tr>\n",
       "      <th>50%</th>\n",
       "      <td>387.50000</td>\n",
       "      <td>3.000000</td>\n",
       "      <td>122.000000</td>\n",
       "      <td>72.000000</td>\n",
       "      <td>23.000000</td>\n",
       "      <td>0.000000</td>\n",
       "      <td>32.500000</td>\n",
       "      <td>0.384000</td>\n",
       "      <td>31.000000</td>\n",
       "      <td>0.500000</td>\n",
       "    </tr>\n",
       "    <tr>\n",
       "      <th>75%</th>\n",
       "      <td>578.75000</td>\n",
       "      <td>7.000000</td>\n",
       "      <td>147.000000</td>\n",
       "      <td>80.000000</td>\n",
       "      <td>33.000000</td>\n",
       "      <td>140.000000</td>\n",
       "      <td>36.950000</td>\n",
       "      <td>0.652000</td>\n",
       "      <td>41.000000</td>\n",
       "      <td>1.000000</td>\n",
       "    </tr>\n",
       "    <tr>\n",
       "      <th>max</th>\n",
       "      <td>767.00000</td>\n",
       "      <td>12.000000</td>\n",
       "      <td>199.000000</td>\n",
       "      <td>110.000000</td>\n",
       "      <td>99.000000</td>\n",
       "      <td>600.000000</td>\n",
       "      <td>67.100000</td>\n",
       "      <td>2.420000</td>\n",
       "      <td>81.000000</td>\n",
       "      <td>1.000000</td>\n",
       "    </tr>\n",
       "  </tbody>\n",
       "</table>\n",
       "</div>"
      ],
      "text/plain": [
       "           index  Pregnancies     Glucose  BloodPressure  SkinThickness  \\\n",
       "count  506.00000   506.000000  506.000000     506.000000     506.000000   \n",
       "mean   386.26087     4.059289  125.853755      69.810277      20.606719   \n",
       "std    222.20816     3.271909   33.587986      19.724628      16.616629   \n",
       "min      0.00000     0.000000    0.000000       0.000000       0.000000   \n",
       "25%    197.25000     1.000000  102.000000      64.000000       0.000000   \n",
       "50%    387.50000     3.000000  122.000000      72.000000      23.000000   \n",
       "75%    578.75000     7.000000  147.000000      80.000000      33.000000   \n",
       "max    767.00000    12.000000  199.000000     110.000000      99.000000   \n",
       "\n",
       "          Insulin         BMI    Pedigree         Age     Outcome  \n",
       "count  506.000000  506.000000  506.000000  506.000000  506.000000  \n",
       "mean    81.047431   32.553360    0.489834   34.126482    0.500000  \n",
       "std    114.982641    8.026957    0.347297   11.668686    0.500495  \n",
       "min      0.000000    0.000000    0.088000   21.000000    0.000000  \n",
       "25%      0.000000   27.800000    0.246250   25.000000    0.000000  \n",
       "50%      0.000000   32.500000    0.384000   31.000000    0.500000  \n",
       "75%    140.000000   36.950000    0.652000   41.000000    1.000000  \n",
       "max    600.000000   67.100000    2.420000   81.000000    1.000000  "
      ]
     },
     "execution_count": 320,
     "metadata": {},
     "output_type": "execute_result"
    }
   ],
   "source": [
    "df.describe()"
   ]
  },
  {
   "cell_type": "markdown",
   "id": "4d1ae1ff",
   "metadata": {},
   "source": [
    "## Scale and Split"
   ]
  },
  {
   "cell_type": "code",
   "execution_count": 321,
   "id": "b94f1014",
   "metadata": {},
   "outputs": [],
   "source": [
    "X = df.drop([\"Outcome\"] , axis =1)\n",
    "\n",
    "y = df[\"Outcome\"]"
   ]
  },
  {
   "cell_type": "code",
   "execution_count": 322,
   "id": "27a8ca0b",
   "metadata": {},
   "outputs": [],
   "source": [
    "from sklearn.model_selection import train_test_split\n",
    "\n",
    "X_train , X_test , y_train , y_test = train_test_split(X , y , test_size = 0.2 , random_state = 42)"
   ]
  },
  {
   "cell_type": "code",
   "execution_count": 323,
   "id": "458b1c1e",
   "metadata": {},
   "outputs": [
    {
     "name": "stdout",
     "output_type": "stream",
     "text": [
      " X_train shape = (404, 9)\n",
      " X_test shape = (102, 9)\n"
     ]
    }
   ],
   "source": [
    "print(f\" X_train shape = {X_train.shape}\")\n",
    "print(f\" X_test shape = {X_test.shape}\")"
   ]
  },
  {
   "cell_type": "code",
   "execution_count": 324,
   "id": "7d00cc7c",
   "metadata": {},
   "outputs": [
    {
     "data": {
      "text/plain": [
       "array([[-5.42056136e-01, -1.25526043e+00,  3.44368358e-01,\n",
       "        -3.56004651e+00, -1.24518971e+00, -7.24756274e-01,\n",
       "         4.81810345e-01,  1.27658309e+00, -7.69347390e-01],\n",
       "       [ 1.56737053e-01, -2.21292113e-02,  5.19294783e-01,\n",
       "         6.04844572e-01,  6.73043437e-01, -7.24756274e-01,\n",
       "         7.69988699e-01,  1.91755631e-01,  2.57013685e-01],\n",
       "       [ 1.70703982e+00, -3.30412017e-01, -5.30263767e-01,\n",
       "        -4.10982521e-01,  1.93485150e-01, -7.24756274e-01,\n",
       "        -8.67388314e-01, -7.55679432e-01, -7.69347390e-01],\n",
       "       [-1.25010486e+00, -2.21292113e-02, -1.46320470e+00,\n",
       "        -4.10982521e-01, -1.24518971e+00, -7.24756274e-01,\n",
       "         1.80532974e-01, -2.74806047e-01, -7.69347390e-01],\n",
       "       [ 1.42011812e+00,  1.21100201e+00, -5.59418171e-01,\n",
       "         5.03261863e-01, -1.24518971e+00, -7.24756274e-01,\n",
       "        -1.05077454e+00,  1.05618279e+00,  4.23416285e-04],\n",
       "       [-1.21771048e+00, -1.25526043e+00,  1.04407406e+00,\n",
       "         3.00096444e-01,  2.11171830e+00,  1.29141465e-01,\n",
       "         2.69554407e+00,  7.78535655e-01, -7.69347390e-01],\n",
       "       [ 4.57542069e-01, -2.21292113e-02, -1.20081506e+00,\n",
       "        -6.14147939e-01,  7.35955787e-02, -3.06346382e-01,\n",
       "        -6.31606024e-01, -5.18105081e-01, -5.12757122e-01],\n",
       "       [-7.64189070e-01,  2.86153594e-01, -1.20081506e+00,\n",
       "         1.98513735e-01,  7.35955787e-02, -7.24756274e-01,\n",
       "        -4.74417831e-01,  2.10952449e+00, -1.70636763e-01],\n",
       "       [ 1.55432343e+00,  2.86153594e-01, -8.50962212e-01,\n",
       "         3.00096444e-01,  3.73319508e-01, -7.24756274e-01,\n",
       "         3.90117232e-01, -3.12016487e-01,  1.53996503e+00],\n",
       "       [ 1.74868975e+00,  1.51928482e+00,  1.27730929e+00,\n",
       "         1.98513735e-01,  6.13098651e-01, -7.24756274e-01,\n",
       "         1.49043459e+00, -2.40457948e-01,  7.70194223e-01],\n",
       "       [-2.36623351e-01, -9.46977628e-01,  1.56885333e+00,\n",
       "        -3.56004651e+00, -1.24518971e+00, -7.24756274e-01,\n",
       "         1.39874147e+00, -5.86801279e-01,  5.99134044e-01],\n",
       "       [-1.70825404e+00,  2.86153594e-01,  1.16069167e+00,\n",
       "         9.69310258e-02, -1.06238779e-01,  7.69564769e-01,\n",
       "        -8.93586346e-01,  2.86212903e-01,  1.45443494e+00],\n",
       "       [ 1.14245195e+00,  9.02719205e-01, -3.55337342e-01,\n",
       "        -3.09399811e-01, -1.24518971e+00, -7.24756274e-01,\n",
       "        -6.84002089e-01,  7.01252432e-01,  4.23416285e-04],\n",
       "       [-1.19919940e+00, -1.25526043e+00, -3.84491746e-01,\n",
       "         3.00096444e-01, -1.24518971e+00, -7.24756274e-01,\n",
       "         8.88398617e-02, -5.98250645e-01, -9.40407570e-01],\n",
       "       [ 5.08447533e-01, -2.21292113e-02, -3.46388960e-02,\n",
       "        -4.65168347e-03, -1.66183565e-01,  3.16998968e-01,\n",
       "        -4.87516847e-01,  1.88053716e+00,  9.41254402e-01],\n",
       "       [ 1.56820674e+00, -9.46977628e-01,  6.65066804e-01,\n",
       "        -1.06234393e-01,  4.93209080e-01,  3.59693855e-01,\n",
       "        -4.35120783e-01, -3.95024393e-01,  6.84664133e-01],\n",
       "       [-8.70627768e-01,  2.86153594e-01,  9.27456441e-01,\n",
       "         7.06427282e-01,  1.21254651e+00,  1.06842898e+00,\n",
       "         8.87879844e-01, -2.63356680e-01, -4.27227032e-01],\n",
       "       [ 9.57341171e-01,  2.13585043e+00, -4.42800554e-01,\n",
       "         7.06427282e-01,  1.15260172e+00, -7.24756274e-01,\n",
       "         1.85720704e+00,  1.25368436e+00,  9.41254402e-01],\n",
       "       [-3.80084204e-01, -6.38694822e-01,  5.19294783e-01,\n",
       "        -6.14147939e-01,  7.32988223e-01,  4.28005674e-01,\n",
       "        -1.33843412e-01, -1.86073458e-01, -7.69347390e-01],\n",
       "       [ 1.36458488e+00, -3.30412017e-01, -1.51256513e-01,\n",
       "        -9.18896067e-01, -1.24518971e+00, -7.24756274e-01,\n",
       "         4.42513297e-01, -1.03046422e+00, -7.69347390e-01],\n",
       "       [ 1.38225976e-01, -9.46977628e-01,  4.90140379e-01,\n",
       "         1.98513735e-01,  7.35955787e-02, -2.03878653e-01,\n",
       "        -8.41190282e-01, -6.61222160e-01, -1.11146775e+00],\n",
       "       [ 1.84503670e-01, -6.38694822e-01, -3.26182938e-01,\n",
       "        -3.09399811e-01,  7.35955787e-02, -7.24756274e-01,\n",
       "        -2.38635541e-01, -1.88935799e-01, -1.11146775e+00],\n",
       "       [-1.56479319e+00, -1.25526043e+00,  1.56885333e+00,\n",
       "        -2.07817102e-01,  1.09265694e+00, -7.24756274e-01,\n",
       "         1.22845426e+00,  4.02443101e+00, -7.69347390e-01],\n",
       "       [ 1.75331752e+00,  1.51928482e+00, -1.08419745e+00,\n",
       "        -4.10982521e-01, -1.24518971e+00, -7.24756274e-01,\n",
       "        -1.32585388e+00, -9.87529100e-01, -8.51066734e-02],\n",
       "       [ 1.18410187e+00, -9.46977628e-01, -7.63499000e-01,\n",
       "         1.98513735e-01, -5.25852280e-01, -3.31963314e-01,\n",
       "        -1.71882436e+00, -9.67492709e-01, -5.12757122e-01],\n",
       "       [ 1.57283451e+00,  2.86153594e-01, -2.67874129e-01,\n",
       "         8.08009991e-01,  5.53153865e-01,  1.71836352e-01,\n",
       "         8.48582796e-01, -6.75533868e-01,  6.84664133e-01],\n",
       "       [-1.19457163e+00, -9.46977628e-01, -1.11335185e+00,\n",
       "        -2.03630587e+00,  1.27249130e+00,  1.20602488e-01,\n",
       "         2.93132636e+00,  2.57398192e-02, -6.83817301e-01],\n",
       "       [ 1.43400143e+00,  9.02719205e-01,  8.19787206e-02,\n",
       "        -1.06234393e-01,  1.69210480e+00,  3.42615900e-01,\n",
       "         7.69988699e-01, -1.37413651e-01,  7.70194223e-01],\n",
       "       [-2.82901046e-01, -1.25526043e+00, -6.37933002e-02,\n",
       "        -4.65168347e-03, -4.62939930e-02, -7.24756274e-01,\n",
       "        -6.84002089e-01, -6.66946843e-01,  1.71483596e-01],\n",
       "       [ 1.73480644e+00, -9.46977628e-01, -5.88572575e-01,\n",
       "         3.00096444e-01, -1.24518971e+00, -7.24756274e-01,\n",
       "         6.38998538e-01, -8.30100313e-01, -6.83817301e-01],\n",
       "       [-5.51311675e-01, -2.21292113e-02, -9.29477043e-02,\n",
       "        -4.10982521e-01, -1.24518971e+00, -7.24756274e-01,\n",
       "        -8.14473477e-02, -7.47092408e-01,  8.59535059e-02],\n",
       "       [ 4.85308685e-01, -2.21292113e-02, -7.92653404e-01,\n",
       "         9.69310258e-02, -2.26128351e-01, -7.24756274e-01,\n",
       "        -9.19784378e-01, -5.52453180e-01, -5.12757122e-01],\n",
       "       [ 8.87924629e-01, -9.46977628e-01, -2.09565321e-01,\n",
       "        -1.32522690e+00,  1.57221522e+00, -1.86800698e-01,\n",
       "         3.77018216e-01, -5.92525962e-01, -7.69347390e-01],\n",
       "       [ 7.81485931e-01,  5.94436400e-01, -3.55337342e-01,\n",
       "         9.09592700e-01, -1.24518971e+00, -7.24756274e-01,\n",
       "        -6.31606024e-01, -6.86983234e-01,  2.73738628e+00],\n",
       "       [ 1.53118458e+00, -3.30412017e-01, -7.05190192e-01,\n",
       "         1.98513735e-01, -1.24518971e+00, -7.24756274e-01,\n",
       "        -4.08922750e-01, -1.04763827e+00, -1.70636763e-01],\n",
       "       [-6.76261450e-01, -1.25526043e+00,  1.53969893e+00,\n",
       "         1.01117541e+00,  3.73319508e-01, -7.24756274e-01,\n",
       "         1.50353360e+00,  5.69584720e-01, -9.40407570e-01],\n",
       "       [-1.76378727e+00,  1.21100201e+00,  1.65631655e+00,\n",
       "        -3.09399811e-01, -1.24518971e+00, -7.24756274e-01,\n",
       "        -1.22106175e+00,  5.29511937e-01, -1.70636763e-01],\n",
       "       [ 6.01002922e-01, -6.38694822e-01, -1.02588864e+00,\n",
       "        -4.10982521e-01, -1.24518971e+00, -7.24756274e-01,\n",
       "        -6.97101105e-01,  1.08747725e-01, -1.02593766e+00],\n",
       "       [-2.92156585e-01, -2.21292113e-02,  8.19787206e-02,\n",
       "        -5.12565230e-01, -5.25852280e-01,  1.24774750e+00,\n",
       "        -6.70903072e-01,  1.14472408e-01, -2.56166853e-01],\n",
       "       [-1.24547709e+00,  9.02719205e-01,  9.85765249e-01,\n",
       "        -8.17313358e-01,  6.73043437e-01,  7.69564769e-01,\n",
       "        -2.77932589e-01,  2.89075245e-01,  4.28073864e-01],\n",
       "       [ 1.73017867e+00, -1.25526043e+00, -9.29477043e-02,\n",
       "         9.69310258e-02, -1.24518971e+00, -7.24756274e-01,\n",
       "         4.81810345e-01, -6.55497477e-01,  1.53996503e+00],\n",
       "       [ 3.88125527e-01, -1.25526043e+00, -8.50962212e-01,\n",
       "        -3.09399811e-01,  9.12822581e-01,  1.29141465e-01,\n",
       "         5.47305425e-01,  3.23423344e-01, -7.69347390e-01],\n",
       "       [-3.15295432e-01, -6.38694822e-01, -4.13646150e-01,\n",
       "        -1.06234393e-01,  7.35955787e-02,  7.79076007e-02,\n",
       "         1.93631991e-01, -4.92344007e-01, -6.83817301e-01],\n",
       "       [-1.27787148e+00, -2.21292113e-02,  5.19294783e-01,\n",
       "        -6.14147939e-01,  4.33264294e-01,  4.70700561e-01,\n",
       "        -4.08922750e-01, -5.72489571e-01,  2.57013685e-01],\n",
       "       [-1.12052732e+00,  2.86153594e-01, -5.88572575e-01,\n",
       "         6.04844572e-01,  5.53153865e-01, -7.24756274e-01,\n",
       "         9.00978860e-01, -5.75351913e-01,  3.42543775e-01],\n",
       "       [ 9.71224479e-01, -6.38694822e-01, -1.28827827e+00,\n",
       "        -9.18896067e-01,  7.35955787e-02,  2.57226126e-01,\n",
       "        -5.39912911e-01,  3.46913674e+00, -7.69347390e-01],\n",
       "       [-1.54628211e+00,  9.02719205e-01, -6.17726979e-01,\n",
       "        -3.56004651e+00, -1.24518971e+00, -7.24756274e-01,\n",
       "        -4.27313250e+00, -5.20967423e-01, -8.54877480e-01],\n",
       "       [-1.26398817e+00, -3.30412017e-01,  1.30646370e+00,\n",
       "         9.69310258e-02,  7.32988223e-01,  4.28005674e-01,\n",
       "         8.88398617e-02, -8.24375630e-01, -8.54877480e-01],\n",
       "       [ 1.54506789e+00,  1.82756762e+00, -9.38425425e-01,\n",
       "         9.69310258e-02, -1.66183565e-01, -7.24756274e-01,\n",
       "        -1.24725978e+00,  3.09111636e-01,  1.88208539e+00],\n",
       "       [-1.77304281e+00,  5.94436400e-01,  6.35912400e-01,\n",
       "         9.69310258e-02,  8.52877795e-01, -7.24756274e-01,\n",
       "         1.28136910e-01,  4.00706566e-01,  1.36890485e+00],\n",
       "       [-1.69899850e+00, -1.25526043e+00, -2.38719725e-01,\n",
       "         7.06427282e-01,  1.57221522e+00,  1.23920853e+00,\n",
       "         1.72621687e+00,  1.83168606e-01, -2.56166853e-01],\n",
       "       [ 2.03014748e-01, -9.46977628e-01,  1.59800774e+00,\n",
       "        -3.09399811e-01,  5.53153865e-01,  8.12259656e-01,\n",
       "         1.93631991e-01, -4.55133566e-01,  3.42543775e-01],\n",
       "       [-1.61569865e+00,  1.82756762e+00, -1.22102108e-01,\n",
       "         4.01679154e-01,  6.13098651e-01, -7.24756274e-01,\n",
       "        -6.57804056e-01,  7.15372845e-02,  9.41254402e-01],\n",
       "       [-1.01408862e+00, -1.25526043e+00,  1.40287529e-01,\n",
       "         9.09592700e-01, -1.24518971e+00, -7.24756274e-01,\n",
       "        -1.33843412e-01,  7.32738190e-01, -1.70636763e-01],\n",
       "       [ 1.19714898e-01, -9.46977628e-01,  1.33561810e+00,\n",
       "        -1.06234393e-01,  1.69210480e+00,  4.21931164e+00,\n",
       "         1.28085033e+00,  6.15382185e-01, -5.12757122e-01],\n",
       "       [ 1.65150659e+00,  2.13585043e+00, -1.80410917e-01,\n",
       "         5.03261863e-01,  9.72767366e-01,  5.56090335e-01,\n",
       "         1.26775131e+00,  8.52956536e-01,  1.19784467e+00],\n",
       "       [ 1.33219050e+00, -9.46977628e-01, -7.92653404e-01,\n",
       "        -6.14147939e-01, -6.45741852e-01, -7.24756274e-01,\n",
       "        -9.45982411e-01,  1.83168606e-01, -1.11146775e+00],\n",
       "       [ 2.63175751e-01, -1.25526043e+00,  1.83124297e+00,\n",
       "         1.72225437e+00,  2.53429936e-01, -7.24756274e-01,\n",
       "         2.19830023e-01, -1.48863017e-01,  5.99134044e-01],\n",
       "       [-1.16680501e+00,  1.51928482e+00, -1.22102108e-01,\n",
       "        -7.15730649e-01, -1.24518971e+00, -7.24756274e-01,\n",
       "         8.88398617e-02,  1.79466692e+00, -8.51066734e-02],\n",
       "       [-3.76292641e-02,  2.44413323e+00,  4.02677166e-01,\n",
       "         6.04844572e-01,  1.33243608e+00,  2.05041138e+00,\n",
       "         8.61681812e-01,  1.17334750e-01,  2.05314557e+00],\n",
       "       [-1.32414918e+00, -9.46977628e-01, -1.60897672e+00,\n",
       "        -1.12206149e+00, -1.66183565e-01, -7.57939924e-02,\n",
       "        -1.60093322e+00, -4.69445274e-01, -1.02593766e+00],\n",
       "       [-1.41207680e+00, -1.25526043e+00,  1.40287529e-01,\n",
       "        -3.56004651e+00, -1.24518971e+00, -7.24756274e-01,\n",
       "         1.38564246e+00, -6.21149378e-01, -6.83817301e-01],\n",
       "       [-1.44067962e-01, -3.30412017e-01, -1.90052076e+00,\n",
       "         6.04844572e-01,  4.33264294e-01, -7.24756274e-01,\n",
       "         2.32929039e-01, -6.98432601e-01,  1.02678449e+00],\n",
       "       [-1.65734858e+00,  1.82756762e+00, -3.46388960e-02,\n",
       "        -4.65168347e-03,  3.13374722e-01,  2.57226126e-01,\n",
       "        -1.99338493e-01, -8.07201581e-01,  5.99134044e-01],\n",
       "       [ 7.21324928e-01, -3.30412017e-01,  8.19787206e-02,\n",
       "         1.11275812e+00,  1.69210480e+00,  5.98785222e-01,\n",
       "         4.94909361e-01,  1.37676505e+00, -1.70636763e-01],\n",
       "       [-2.87528815e-01, -3.30412017e-01, -4.13646150e-01,\n",
       "         1.98513735e-01,  5.53153865e-01, -7.24756274e-01,\n",
       "        -1.33843412e-01, -8.30100313e-01, -7.69347390e-01],\n",
       "       [ 1.01750217e+00,  9.02719205e-01,  6.94221208e-01,\n",
       "         4.01679154e-01,  4.93209080e-01,  3.51154877e-01,\n",
       "         3.37721168e-01,  5.86758769e-01,  1.71102521e+00],\n",
       "       [-1.17606055e+00, -1.25526043e+00, -6.17726979e-01,\n",
       "         7.06427282e-01, -1.24518971e+00, -7.24756274e-01,\n",
       "        -6.18507008e-01,  7.27013507e-01,  2.39526593e+00],\n",
       "       [-1.50000441e+00, -1.25526043e+00, -6.17726979e-01,\n",
       "        -3.09399811e-01,  1.21254651e+00,  4.87778515e-01,\n",
       "         1.16295918e+00, -8.98796511e-01, -1.02593766e+00],\n",
       "       [ 1.44325696e+00,  9.02719205e-01,  4.60985975e-01,\n",
       "         1.01117541e+00,  1.93485150e-01,  3.37395287e+00,\n",
       "        -2.91031605e-01, -1.02760188e+00,  7.70194223e-01],\n",
       "       [-1.45835449e+00, -9.46977628e-01, -9.09271021e-01,\n",
       "        -2.07817102e-01, -4.65907494e-01, -4.00275133e-01,\n",
       "        -1.70572534e+00, -4.37959517e-01, -7.69347390e-01],\n",
       "       [ 1.62373997e+00, -6.38694822e-01, -6.17726979e-01,\n",
       "         2.49305090e-01, -1.24518971e+00, -7.24756274e-01,\n",
       "        -1.22106175e+00,  2.08929680e-01,  1.62549512e+00],\n",
       "       [ 1.34144604e+00, -3.30412017e-01, -9.29477043e-02,\n",
       "         1.51908896e+00,  8.52877795e-01,  1.32459830e+00,\n",
       "         3.23260373e+00,  1.12487899e+00, -1.02593766e+00],\n",
       "       [ 7.39836006e-01, -2.21292113e-02, -1.22996947e+00,\n",
       "         1.01117541e+00,  1.33540365e-01, -2.46573540e-01,\n",
       "         9.00978860e-01, -9.38869294e-01, -7.69347390e-01],\n",
       "       [-1.21308271e+00,  5.94436400e-01, -4.42800554e-01,\n",
       "        -3.09399811e-01,  1.09265694e+00, -7.24756274e-01,\n",
       "         2.06731007e-01, -6.49772794e-01, -8.54877480e-01],\n",
       "       [ 1.03601325e+00, -9.46977628e-01, -9.96734233e-01,\n",
       "        -4.10982521e-01,  2.53429936e-01, -3.74658201e-01,\n",
       "        -1.71882436e+00, -1.43329629e-02, -7.69347390e-01],\n",
       "       [-1.00020531e+00, -2.21292113e-02, -1.80410917e-01,\n",
       "        -1.06234393e-01, -1.24518971e+00, -7.24756274e-01,\n",
       "        -3.95823734e-01,  6.35418576e-01,  4.23416285e-04],\n",
       "       [-3.19923201e-01,  9.02719205e-01, -5.01109363e-01,\n",
       "         5.03261863e-01,  6.13098651e-01, -7.24756274e-01,\n",
       "         4.29414280e-01,  1.83187736e+00,  7.70194223e-01],\n",
       "       [ 9.20319015e-01,  2.44413323e+00, -1.51256513e-01,\n",
       "         4.01679154e-01, -2.26128351e-01, -7.24756274e-01,\n",
       "        -8.01893234e-01, -6.52635135e-01,  2.39526593e+00],\n",
       "       [ 1.69315652e+00,  5.94436400e-01,  1.04407406e+00,\n",
       "        -4.10982521e-01, -1.24518971e+00, -7.24756274e-01,\n",
       "        -1.09007159e+00, -8.84484803e-01,  1.36890485e+00],\n",
       "       [-1.26861594e+00, -1.25526043e+00, -9.09271021e-01,\n",
       "         7.57218636e-01,  2.53429936e-01, -4.17353088e-01,\n",
       "         6.25899522e-01, -6.86983234e-01, -8.54877480e-01],\n",
       "       [ 1.10542979e+00,  5.94436400e-01,  1.65631655e+00,\n",
       "         1.21434083e+00, -1.24518971e+00, -7.24756274e-01,\n",
       "         1.07126607e+00,  2.78789944e+00,  9.41254402e-01],\n",
       "       [ 3.64150473e-02,  2.86153594e-01,  1.16069167e+00,\n",
       "         3.00096444e-01, -1.24518971e+00, -7.24756274e-01,\n",
       "         1.71311786e+00, -4.20785467e-01, -5.98287211e-01],\n",
       "       [ 9.94363326e-01, -9.46977628e-01,  1.36477250e+00,\n",
       "         1.98513735e-01, -1.24518971e+00, -7.24756274e-01,\n",
       "         5.47305425e-01, -1.14209555e+00,  3.42543775e-01],\n",
       "       [ 4.29775452e-01, -6.38694822e-01, -6.17726979e-01,\n",
       "         5.03261863e-01,  1.45232565e+00,  9.06188408e-01,\n",
       "         1.41235926e-01,  6.41143259e-01, -4.27227032e-01],\n",
       "       [-1.07045806e-01,  2.86153594e-01,  1.83124297e+00,\n",
       "        -3.09399811e-01,  7.32988223e-01,  2.05041138e+00,\n",
       "        -1.86239477e-01,  2.74763537e-01, -4.27227032e-01],\n",
       "       [ 1.47102358e+00,  5.94436400e-01, -3.46388960e-02,\n",
       "         4.01679154e-01,  6.13098651e-01, -7.24756274e-01,\n",
       "        -6.57804056e-01,  2.23241388e-01,  1.28337476e+00],\n",
       "       [ 5.13075302e-01, -3.30412017e-01, -1.34658708e+00,\n",
       "        -3.56004651e+00, -1.24518971e+00, -7.24756274e-01,\n",
       "        -4.27313250e+00, -8.95934170e-01, -1.02593766e+00],\n",
       "       [-1.10201624e+00, -1.25526043e+00, -7.05190192e-01,\n",
       "         2.49305090e-01,  1.33540365e-01, -7.24756274e-01,\n",
       "        -4.27313250e+00,  2.43277779e-01, -1.11146775e+00],\n",
       "       [-7.82700148e-01,  1.51928482e+00, -4.13646150e-01,\n",
       "         6.04844572e-01,  6.73043437e-01,  7.69564769e-01,\n",
       "         2.06731007e-01, -6.49772794e-01,  1.71483596e-01],\n",
       "       [-5.23545058e-01,  1.82756762e+00, -7.34344596e-01,\n",
       "         8.08009991e-01,  9.72767366e-01, -7.24756274e-01,\n",
       "         1.70001884e+00,  1.85763843e+00,  3.42543775e-01],\n",
       "       [ 1.16096303e+00,  1.82756762e+00, -9.96734233e-01,\n",
       "        -4.10982521e-01, -1.24518971e+00, -7.24756274e-01,\n",
       "        -8.80487330e-01, -9.15970561e-01, -2.56166853e-01],\n",
       "       [-8.19722304e-01,  1.21100201e+00,  2.03532380e+00,\n",
       "         3.00096444e-01,  4.93209080e-01,  1.66615740e+00,\n",
       "         6.38998538e-01,  3.37735052e-01,  1.96761548e+00],\n",
       "       [ 6.79675003e-01, -6.38694822e-01, -1.22102108e-01,\n",
       "        -5.12565230e-01, -1.66183565e-01,  1.80375329e-01,\n",
       "        -3.69625702e-01,  6.58317309e-01, -1.02593766e+00],\n",
       "       [ 8.04624778e-01,  1.21100201e+00, -4.71954958e-01,\n",
       "         3.00096444e-01, -1.24518971e+00, -7.24756274e-01,\n",
       "        -6.31606024e-01, -7.15606650e-01,  2.05314557e+00],\n",
       "       [-8.15094534e-01,  2.86153594e-01,  1.04407406e+00,\n",
       "         1.72225437e+00, -1.24518971e+00, -7.24756274e-01,\n",
       "         6.65196570e-01, -9.61768026e-01,  1.53996503e+00],\n",
       "       [ 8.41646934e-01, -6.38694822e-01, -9.09271021e-01,\n",
       "        -8.17313358e-01, -4.05962708e-01,  2.66737363e-02,\n",
       "        -8.54289298e-01,  7.47049898e-01, -1.02593766e+00],\n",
       "       [ 1.12856864e+00, -1.25526043e+00,  1.69441933e-01,\n",
       "         4.01679154e-01, -1.24518971e+00, -7.24756274e-01,\n",
       "        -2.90512832e-02, -2.69081364e-01, -1.11146775e+00],\n",
       "       [ 1.29516834e+00,  1.51928482e+00,  5.48449187e-01,\n",
       "         5.03261863e-01,  1.51227044e+00,  3.85310787e-01,\n",
       "         6.91394603e-01,  4.29329982e-01,  5.13603954e-01],\n",
       "       [ 1.12394087e+00, -1.25526043e+00, -3.46388960e-02,\n",
       "        -1.06234393e-01, -1.24518971e+00, -7.24756274e-01,\n",
       "        -1.03767552e+00, -8.04339239e-01, -1.11146775e+00],\n",
       "       [-1.15292171e+00, -6.38694822e-01, -8.80116617e-01,\n",
       "        -1.06234393e-01, -4.65907494e-01, -3.06346382e-01,\n",
       "        -1.50924010e+00,  4.57953398e-01, -6.83817301e-01],\n",
       "       [-1.23622156e+00,  2.86153594e-01, -6.37933002e-02,\n",
       "         1.98513735e-01, -1.24518971e+00, -7.24756274e-01,\n",
       "         1.80532974e-01, -7.64266457e-01,  3.42543775e-01]])"
      ]
     },
     "execution_count": 324,
     "metadata": {},
     "output_type": "execute_result"
    }
   ],
   "source": [
    "from sklearn.preprocessing import StandardScaler\n",
    "\n",
    "\n",
    "\n",
    "scaler = StandardScaler() \n",
    "\n",
    "scaler.fit(X_train)\n",
    "\n",
    "scaler.transform(X_train)\n",
    "scaler.transform(X_test)\n",
    "\n"
   ]
  },
  {
   "cell_type": "markdown",
   "id": "8b9ede58",
   "metadata": {},
   "source": [
    "# Using KNN\n",
    "\n",
    "#### Selecting Value for    K or N-Neighbors"
   ]
  },
  {
   "cell_type": "code",
   "execution_count": 325,
   "id": "dc580223",
   "metadata": {},
   "outputs": [
    {
     "name": "stdout",
     "output_type": "stream",
     "text": [
      "For i = 1  60.784 %\n",
      "For i = 2  57.843 %\n",
      "For i = 3  62.745 %\n",
      "For i = 4  59.804 %\n",
      "For i = 5  64.706 %\n",
      "For i = 6  62.745 %\n",
      "For i = 7  67.647 %\n",
      "For i = 8  65.686 %\n",
      "For i = 9  67.647 %\n",
      "For i = 10  65.686 %\n",
      "For i = 11  69.608 %\n",
      "For i = 12  67.647 %\n",
      "For i = 13  72.549 %\n",
      "For i = 14  66.667 %\n",
      "For i = 15  73.529 %\n",
      "For i = 16  68.627 %\n",
      "For i = 17  68.627 %\n",
      "For i = 18  65.686 %\n",
      "For i = 19  67.647 %\n",
      "For i = 20  68.627 %\n",
      "For i = 21  68.627 %\n",
      "For i = 22  65.686 %\n",
      "For i = 23  67.647 %\n",
      "For i = 24  64.706 %\n",
      "For i = 25  68.627 %\n",
      "For i = 26  64.706 %\n",
      "For i = 27  64.706 %\n",
      "For i = 28  62.745 %\n",
      "For i = 29  64.706 %\n",
      "For i = 30  60.784 %\n",
      "For i = 31  61.765 %\n",
      "For i = 32  59.804 %\n",
      "For i = 33  58.824 %\n",
      "For i = 34  57.843 %\n",
      "For i = 35  60.784 %\n",
      "For i = 36  60.784 %\n",
      "For i = 37  60.784 %\n",
      "For i = 38  59.804 %\n",
      "For i = 39  61.765 %\n",
      "For i = 40  58.824 %\n",
      "For i = 41  58.824 %\n",
      "For i = 42  57.843 %\n",
      "For i = 43  57.843 %\n",
      "For i = 44  59.804 %\n",
      "For i = 45  59.804 %\n",
      "For i = 46  61.765 %\n",
      "For i = 47  60.784 %\n",
      "For i = 48  59.804 %\n",
      "For i = 49  60.784 %\n"
     ]
    }
   ],
   "source": [
    "from sklearn.neighbors import KNeighborsClassifier\n",
    "\n",
    "max_score = 0\n",
    "n = 0\n",
    "\n",
    "for i in range(1,50):\n",
    "    knn = KNeighborsClassifier(n_neighbors=i)\n",
    "\n",
    "    knn.fit(X_train, y_train)\n",
    "    print(f\"For i = {i} \" , end=\" \")\n",
    "\n",
    "    # Calculate the accuracy of the model\n",
    "    print(round(knn.score(X_test, y_test)*100 , 3) , \"%\")\n",
    "    \n",
    "    if max_score < knn.score(X_test, y_test):\n",
    "        n = i"
   ]
  },
  {
   "cell_type": "markdown",
   "id": "romantic-output",
   "metadata": {},
   "source": [
    "# accuracy"
   ]
  },
  {
   "cell_type": "code",
   "execution_count": 333,
   "id": "b72a3335",
   "metadata": {},
   "outputs": [
    {
     "name": "stdout",
     "output_type": "stream",
     "text": [
      "73.529 %\n"
     ]
    }
   ],
   "source": [
    "knn = KNeighborsClassifier(n_neighbors=15)\n",
    "knn.fit(X_train, y_train)\n",
    "print(round(knn.score(X_test, y_test)*100 , 3) , \"%\")"
   ]
  },
  {
   "cell_type": "code",
   "execution_count": 334,
   "id": "8c10d351",
   "metadata": {},
   "outputs": [],
   "source": [
    "y_pred = knn.predict(X_test)"
   ]
  },
  {
   "cell_type": "markdown",
   "id": "optimum-nigeria",
   "metadata": {},
   "source": [
    "# confusion matrix"
   ]
  },
  {
   "cell_type": "code",
   "execution_count": 335,
   "id": "14b05058",
   "metadata": {},
   "outputs": [
    {
     "data": {
      "image/png": "[encoded data removed]",
      "text/plain": [
       "<Figure size 432x288 with 2 Axes>"
      ]
     },
     "metadata": {
      "needs_background": "dark"
     },
     "output_type": "display_data"
    }
   ],
   "source": [
    "import matplotlib.pyplot as plt\n",
    "from sklearn.metrics import plot_confusion_matrix\n",
    " \n",
    "color = 'white'\n",
    "matrix = plot_confusion_matrix(knn, X_test, y_test, cmap=plt.cm.Blues)\n",
    "matrix.ax_.set_title('Confusion Matrix', color=color)\n",
    "plt.xlabel('Predicted Label', color=color)\n",
    "plt.ylabel('True Label', color=color)\n",
    "plt.gcf().axes[0].tick_params(colors=color)\n",
    "plt.gcf().axes[1].tick_params(colors=color)\n",
    "plt.show()"
   ]
  },
  {
   "cell_type": "markdown",
   "id": "viral-cylinder",
   "metadata": {},
   "source": [
    "# error rate"
   ]
  },
  {
   "cell_type": "code",
   "execution_count": 336,
   "id": "008632d3",
   "metadata": {},
   "outputs": [
    {
     "data": {
      "text/plain": [
       "0.2647058823529411"
      ]
     },
     "execution_count": 336,
     "metadata": {},
     "output_type": "execute_result"
    }
   ],
   "source": [
    "from sklearn.metrics import zero_one_loss\n",
    "\n",
    "error_rate = zero_one_loss(y_test, y_pred)\n",
    "\n",
    "error_rate"
   ]
  },
  {
   "cell_type": "markdown",
   "id": "falling-canberra",
   "metadata": {},
   "source": [
    "# recall"
   ]
  },
  {
   "cell_type": "code",
   "execution_count": 337,
   "id": "60bf9a31",
   "metadata": {},
   "outputs": [
    {
     "name": "stdout",
     "output_type": "stream",
     "text": [
      "Recall :  58.92857142857143\n"
     ]
    }
   ],
   "source": [
    "from sklearn.metrics import recall_score\n",
    "\n",
    "print(\"Recall : \" , (recall_score(y_test, y_pred, average='binary'))*100 )"
   ]
  },
  {
   "cell_type": "markdown",
   "id": "armed-satin",
   "metadata": {},
   "source": [
    "# precision "
   ]
  },
  {
   "cell_type": "code",
   "execution_count": 338,
   "id": "8b012edc",
   "metadata": {},
   "outputs": [
    {
     "name": "stdout",
     "output_type": "stream",
     "text": [
      "precision_score :  89.1891891891892\n"
     ]
    }
   ],
   "source": [
    "from sklearn.metrics import precision_score\n",
    "\n",
    "print(\"precision_score : \" , (precision_score(y_test, y_pred, average='binary'))*100 )"
   ]
  }
 ],
 "metadata": {
  "kernelspec": {
   "display_name": "Python 3.8.7 64-bit",
   "language": "python",
   "name": "python3"
  },
  "language_info": {
   "codemirror_mode": {
    "name": "ipython",
    "version": 3
   },
   "file_extension": ".py",
   "mimetype": "text/x-python",
   "name": "python",
   "nbconvert_exporter": "python",
   "pygments_lexer": "ipython3",
   "version": "3.8.7"
  },
  "vscode": {
   "interpreter": {
    "hash": "b82bd812b6a37d04ba59de08f4dfa67a262de1c3e27303c0cb0a5b38b381c61f"
   }
  }
 },
 "nbformat": 4,
 "nbformat_minor": 5
}
